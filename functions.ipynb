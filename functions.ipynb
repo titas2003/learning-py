{
  "nbformat": 4,
  "nbformat_minor": 0,
  "metadata": {
    "colab": {
      "provenance": [],
      "authorship_tag": "ABX9TyNJB+uzU5TQsI6bro09OF5W",
      "include_colab_link": true
    },
    "kernelspec": {
      "name": "python3",
      "display_name": "Python 3"
    },
    "language_info": {
      "name": "python"
    }
  },
  "cells": [
    {
      "cell_type": "markdown",
      "metadata": {
        "id": "view-in-github",
        "colab_type": "text"
      },
      "source": [
        "<a href=\"https://colab.research.google.com/github/titas2003/learning-py/blob/main/functions.ipynb\" target=\"_parent\"><img src=\"https://colab.research.google.com/assets/colab-badge.svg\" alt=\"Open In Colab\"/></a>"
      ]
    },
    {
      "cell_type": "code",
      "execution_count": 1,
      "metadata": {
        "colab": {
          "base_uri": "https://localhost:8080/"
        },
        "id": "YdKGWY6pqrY3",
        "outputId": "8ee7de63-0703-4075-b8a5-08f108a4d304"
      },
      "outputs": [
        {
          "output_type": "stream",
          "name": "stdout",
          "text": [
            "[1, 2, 'car', 'a', 'b']\n"
          ]
        }
      ],
      "source": [
        "#Tuple to List\n",
        "my_tuple = (1, 2, 3, 'a', 'b')\n",
        "my_list = list(my_tuple)\n",
        "my_list[2] = \"car\"\n",
        "my_tuple = list(my_list)\n",
        "print(my_list)"
      ]
    },
    {
      "cell_type": "markdown",
      "source": [
        "**Functions**"
      ],
      "metadata": {
        "id": "vHvEH3orcYAs"
      }
    },
    {
      "cell_type": "code",
      "source": [
        "#Basic\n",
        "def myfunc():\n",
        "  print(\"Hi There\")\n",
        "\n",
        "myfunc()"
      ],
      "metadata": {
        "colab": {
          "base_uri": "https://localhost:8080/"
        },
        "id": "dQIyUtKhcfnI",
        "outputId": "b63bd962-3cba-454b-b69a-04035468b7ba"
      },
      "execution_count": 6,
      "outputs": [
        {
          "output_type": "stream",
          "name": "stdout",
          "text": [
            "Hi There\n"
          ]
        }
      ]
    },
    {
      "cell_type": "code",
      "source": [
        "#__init__ function\n",
        "class person:\n",
        "  def __init__(self, name, age):\n",
        "    self.name=name\n",
        "    self.age=age\n",
        "p1=person(\"John\", 36)\n",
        "print(p1.name)\n",
        "print(p1.age)\n"
      ],
      "metadata": {
        "colab": {
          "base_uri": "https://localhost:8080/"
        },
        "id": "Wj92Xv5C0Iq-",
        "outputId": "5b60e035-2332-4c42-b47c-9011b3d479fd"
      },
      "execution_count": 1,
      "outputs": [
        {
          "output_type": "stream",
          "name": "stdout",
          "text": [
            "John\n",
            "36\n"
          ]
        }
      ]
    },
    {
      "cell_type": "code",
      "source": [
        "#__str__ function.\n",
        "class person:\n",
        "  def __init__(self, name, age):\n",
        "    self.name=name\n",
        "    self.age=age\n",
        "  def __str__(self):\n",
        "    return f\"{self.name} is {self.age} years old\"\n",
        "\n",
        "p1=person(\"Joe\", 29)\n",
        "print(p1)\n",
        "print(p1.name)"
      ],
      "metadata": {
        "colab": {
          "base_uri": "https://localhost:8080/"
        },
        "id": "0FX8a8b61m29",
        "outputId": "16ff50d1-6591-4f62-850a-5a5c30f78f48"
      },
      "execution_count": 6,
      "outputs": [
        {
          "output_type": "stream",
          "name": "stdout",
          "text": [
            "Joe is 29 years old\n",
            "Joe\n"
          ]
        }
      ]
    },
    {
      "cell_type": "code",
      "source": [
        "class person:\n",
        "  def __init__(self, name, age):\n",
        "    self.name = name\n",
        "    self.age = age\n",
        "  def mufunc(self):\n",
        "    print(\"Welcome to the training\"+\" \"+self.name)\n",
        "p1=person(\"Joe\", 34)\n",
        "p1.mufunc()"
      ],
      "metadata": {
        "colab": {
          "base_uri": "https://localhost:8080/"
        },
        "id": "Oa93nMsf3m1I",
        "outputId": "39854be4-e93a-4a2f-c7c3-743e92e23ffc"
      },
      "execution_count": 5,
      "outputs": [
        {
          "output_type": "stream",
          "name": "stdout",
          "text": [
            "Welcome to the training Joe\n"
          ]
        }
      ]
    }
  ]
}