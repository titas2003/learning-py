{
  "nbformat": 4,
  "nbformat_minor": 0,
  "metadata": {
    "colab": {
      "provenance": [],
      "authorship_tag": "ABX9TyNbSZZX9lAvjFW/b9/pDpHF",
      "include_colab_link": true
    },
    "kernelspec": {
      "name": "python3",
      "display_name": "Python 3"
    },
    "language_info": {
      "name": "python"
    }
  },
  "cells": [
    {
      "cell_type": "markdown",
      "metadata": {
        "id": "view-in-github",
        "colab_type": "text"
      },
      "source": [
        "<a href=\"https://colab.research.google.com/github/titas2003/learning-py/blob/main/functions_classes.ipynb\" target=\"_parent\"><img src=\"https://colab.research.google.com/assets/colab-badge.svg\" alt=\"Open In Colab\"/></a>"
      ]
    },
    {
      "cell_type": "code",
      "execution_count": 1,
      "metadata": {
        "colab": {
          "base_uri": "https://localhost:8080/"
        },
        "id": "YdKGWY6pqrY3",
        "outputId": "8ee7de63-0703-4075-b8a5-08f108a4d304"
      },
      "outputs": [
        {
          "output_type": "stream",
          "name": "stdout",
          "text": [
            "[1, 2, 'car', 'a', 'b']\n"
          ]
        }
      ],
      "source": [
        "#Tuple to List\n",
        "my_tuple = (1, 2, 3, 'a', 'b')\n",
        "my_list = list(my_tuple)\n",
        "my_list[2] = \"car\"\n",
        "my_tuple = list(my_list)\n",
        "print(my_list)"
      ]
    },
    {
      "cell_type": "markdown",
      "source": [
        "**Functions**"
      ],
      "metadata": {
        "id": "vHvEH3orcYAs"
      }
    },
    {
      "cell_type": "code",
      "source": [
        "#Basic\n",
        "def myfunc():\n",
        "  print(\"Hi There\")\n",
        "\n",
        "myfunc()"
      ],
      "metadata": {
        "colab": {
          "base_uri": "https://localhost:8080/"
        },
        "id": "dQIyUtKhcfnI",
        "outputId": "b63bd962-3cba-454b-b69a-04035468b7ba"
      },
      "execution_count": 6,
      "outputs": [
        {
          "output_type": "stream",
          "name": "stdout",
          "text": [
            "Hi There\n"
          ]
        }
      ]
    },
    {
      "cell_type": "code",
      "source": [
        "#Arguments\n",
        "def getname(name): #name is the argument\n",
        "  print(\"Hi \"+ name)\n",
        "getname(\"Titas\")"
      ],
      "metadata": {
        "colab": {
          "base_uri": "https://localhost:8080/"
        },
        "id": "XPD53DOIc3Jm",
        "outputId": "aa7de326-2eba-4bed-ba1b-bf3c9e14e795"
      },
      "execution_count": 9,
      "outputs": [
        {
          "output_type": "stream",
          "name": "stdout",
          "text": [
            "Hi Titas\n"
          ]
        }
      ]
    },
    {
      "cell_type": "code",
      "source": [
        "#multiple argements\n",
        "def getFullName(fname, lname):\n",
        "  print(\"Hi \"+ fname +\" \"+lname)\n",
        "\n",
        "getFullName(\"John\", \"Doe\")"
      ],
      "metadata": {
        "colab": {
          "base_uri": "https://localhost:8080/"
        },
        "id": "CFePYP3TdRdQ",
        "outputId": "42b4e5a6-a4f0-42f4-9e03-0b14b786fd1d"
      },
      "execution_count": 10,
      "outputs": [
        {
          "output_type": "stream",
          "name": "stdout",
          "text": [
            "Hi John Doe\n"
          ]
        }
      ]
    },
    {
      "cell_type": "code",
      "source": [
        "#Arbitrary arguments\n",
        "def getKidNames(*kids):\n",
        "  print(kids[2])\n",
        "\n",
        "getKidNames(\"Joe\", \"Jane\", \"John\")"
      ],
      "metadata": {
        "colab": {
          "base_uri": "https://localhost:8080/"
        },
        "id": "Ii0cWmQndzAo",
        "outputId": "807fc77f-d8a2-4a37-e5f7-75f376e9d40b"
      },
      "execution_count": 15,
      "outputs": [
        {
          "output_type": "stream",
          "name": "stdout",
          "text": [
            "John\n"
          ]
        }
      ]
    },
    {
      "cell_type": "code",
      "source": [
        "#keywort arguments\n",
        "def combo(starter, main_course, dessert):\n",
        "  print(\"We are serving \"+starter+\" as starter. \"+main_course+\" as main course and \"+dessert+\" as desserts\")\n",
        "combo(starter=\"Kebab\", main_course=\"Biriyani\", dessert=\"Gulab Jamun\")\n",
        "combo(\"Pakora\", \"Rice\", \"Ice-cream\")"
      ],
      "metadata": {
        "colab": {
          "base_uri": "https://localhost:8080/"
        },
        "id": "GuCWekxtePVk",
        "outputId": "3ecc23f0-49f5-45f5-ff6f-83dafe98123d"
      },
      "execution_count": 14,
      "outputs": [
        {
          "output_type": "stream",
          "name": "stdout",
          "text": [
            "We are serving Kebab as starter. Biriyani as main course and Gulab Jamun as desserts\n",
            "We are serving Pakora as starter. Rice as main course and Ice-cream as desserts\n"
          ]
        }
      ]
    },
    {
      "cell_type": "code",
      "source": [
        "#Arbitrary keywords arguments\n",
        "def combos(**food):\n",
        "  print(\"Fish Combo: \"+food[\"fries\"]+\" / \"+food[\"rice\"]+\" / \"+food[\"side_dish\"])\n",
        "  print(\"Chicken Combo: \"+food[\"starter\"]+\" / \"+food[\"biriyani\"]+\" Biriyani / \"+food[\"dessert\"])\n",
        "\n",
        "combos(fries=\"Fish n Chips\", rice=\"Sezwan Rice\", side_dish=\"Manchurian\", starter=\"Kebab\", biriyani=\"Mutton\", dessert=\"Ice cream\")"
      ],
      "metadata": {
        "colab": {
          "base_uri": "https://localhost:8080/"
        },
        "id": "euIW9gHxfkiT",
        "outputId": "c6965190-809e-45db-fa5e-b457ff40536d"
      },
      "execution_count": 18,
      "outputs": [
        {
          "output_type": "stream",
          "name": "stdout",
          "text": [
            "Fish Combo: Fish n Chips / Sezwan Rice / Manchurian\n",
            "Chicken Combo: Kebab / Mutton Biriyani / Ice cream\n"
          ]
        }
      ]
    },
    {
      "cell_type": "markdown",
      "source": [
        "**OOPS concept**\n",
        "\n",
        " - Classes"
      ],
      "metadata": {
        "id": "3kfQhPvz9TiV"
      }
    },
    {
      "cell_type": "code",
      "source": [
        "#basic class example\n",
        "class myclass:\n",
        "  x=5\n",
        "#create object\n",
        "obj=myclass();\n",
        "print(obj.x)"
      ],
      "metadata": {
        "colab": {
          "base_uri": "https://localhost:8080/"
        },
        "id": "D5iJP2JH-xLh",
        "outputId": "f6d1a5c3-8f3e-4552-f877-6c0d7a0ef531"
      },
      "execution_count": 19,
      "outputs": [
        {
          "output_type": "stream",
          "name": "stdout",
          "text": [
            "5\n"
          ]
        }
      ]
    },
    {
      "cell_type": "code",
      "source": [
        "#__init__ function\n",
        "class person:\n",
        "  def __init__(self, name, age):\n",
        "    self.name=name\n",
        "    self.age=age\n",
        "p1=person(\"John\", 36)\n",
        "print(p1.name)\n",
        "print(p1.age)\n"
      ],
      "metadata": {
        "colab": {
          "base_uri": "https://localhost:8080/"
        },
        "id": "Wj92Xv5C0Iq-",
        "outputId": "5b60e035-2332-4c42-b47c-9011b3d479fd"
      },
      "execution_count": 1,
      "outputs": [
        {
          "output_type": "stream",
          "name": "stdout",
          "text": [
            "John\n",
            "36\n"
          ]
        }
      ]
    },
    {
      "cell_type": "code",
      "source": [
        "#__str__ function.\n",
        "class person:\n",
        "  def __init__(self, name, age):\n",
        "    self.name=name\n",
        "    self.age=age\n",
        "  def __str__(self):\n",
        "    return f\"{self.name} is {self.age} years old\"\n",
        "\n",
        "p1=person(\"Joe\", 29)\n",
        "print(p1)\n",
        "print(p1.name)"
      ],
      "metadata": {
        "colab": {
          "base_uri": "https://localhost:8080/"
        },
        "id": "0FX8a8b61m29",
        "outputId": "16ff50d1-6591-4f62-850a-5a5c30f78f48"
      },
      "execution_count": 6,
      "outputs": [
        {
          "output_type": "stream",
          "name": "stdout",
          "text": [
            "Joe is 29 years old\n",
            "Joe\n"
          ]
        }
      ]
    },
    {
      "cell_type": "code",
      "source": [
        "class person:\n",
        "  def __init__(self, name, age):\n",
        "    self.name = name\n",
        "    self.age = age\n",
        "  def mufunc(self):\n",
        "    print(\"Welcome to the training\"+\" \"+self.name)\n",
        "p1=person(\"Joe\", 34)\n",
        "p1.mufunc()"
      ],
      "metadata": {
        "colab": {
          "base_uri": "https://localhost:8080/"
        },
        "id": "Oa93nMsf3m1I",
        "outputId": "39854be4-e93a-4a2f-c7c3-743e92e23ffc"
      },
      "execution_count": 5,
      "outputs": [
        {
          "output_type": "stream",
          "name": "stdout",
          "text": [
            "Welcome to the training Joe\n"
          ]
        }
      ]
    }
  ]
}