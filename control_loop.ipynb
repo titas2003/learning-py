{
  "nbformat": 4,
  "nbformat_minor": 0,
  "metadata": {
    "colab": {
      "provenance": [],
      "authorship_tag": "ABX9TyNW1kwO5tNZfs0hJupHbMNz",
      "include_colab_link": true
    },
    "kernelspec": {
      "name": "python3",
      "display_name": "Python 3"
    },
    "language_info": {
      "name": "python"
    }
  },
  "cells": [
    {
      "cell_type": "markdown",
      "metadata": {
        "id": "view-in-github",
        "colab_type": "text"
      },
      "source": [
        "<a href=\"https://colab.research.google.com/github/titas2003/learning-py/blob/main/control_loop.ipynb\" target=\"_parent\"><img src=\"https://colab.research.google.com/assets/colab-badge.svg\" alt=\"Open In Colab\"/></a>"
      ]
    },
    {
      "cell_type": "code",
      "execution_count": 1,
      "metadata": {
        "colab": {
          "base_uri": "https://localhost:8080/"
        },
        "id": "7JJWqncaX8gD",
        "outputId": "7ed679e7-879b-468f-9f0b-f689c78d7215"
      },
      "outputs": [
        {
          "output_type": "stream",
          "name": "stdout",
          "text": [
            "Go to hell\n"
          ]
        }
      ],
      "source": [
        "#Simple\n",
        "if 3>45:\n",
        "  print(\"hi there\")\n",
        "else:\n",
        "  print(\"Go to hell\")"
      ]
    },
    {
      "cell_type": "code",
      "source": [
        "#elif\n",
        "a=5\n",
        "b=2\n",
        "if a>b:\n",
        "  print(\"a is greater\")\n",
        "elif a==b:\n",
        "  print(\"a and b are equal\")\n",
        "else:\n",
        "  print(\"b is greatest\")"
      ],
      "metadata": {
        "colab": {
          "base_uri": "https://localhost:8080/"
        },
        "id": "kPuIR0KVZqE9",
        "outputId": "805cab8b-6668-47b1-b820-362c983d183d"
      },
      "execution_count": 4,
      "outputs": [
        {
          "output_type": "stream",
          "name": "stdout",
          "text": [
            "a is greater\n"
          ]
        }
      ]
    },
    {
      "cell_type": "code",
      "source": [
        "#elif\n",
        "if 'p' in 'limits':\n",
        "  print(\"S is there\")\n",
        "elif \"orange\" in [\"apple\", \"orange\", \"mango\"]:\n",
        "  print(\"Eat orange\")\n",
        "else:\n",
        "  print(\"Eat banana\")"
      ],
      "metadata": {
        "colab": {
          "base_uri": "https://localhost:8080/"
        },
        "id": "KOuNzOesaFA4",
        "outputId": "7dfda377-c1f1-4136-d259-c4448809a613"
      },
      "execution_count": 16,
      "outputs": [
        {
          "output_type": "stream",
          "name": "stdout",
          "text": [
            "Eat orange\n"
          ]
        }
      ]
    },
    {
      "cell_type": "code",
      "source": [
        "#Short hand syntax\n",
        "a=5\n",
        "b=9\n",
        "print(\"a\") if a>b else print(\"b\")"
      ],
      "metadata": {
        "colab": {
          "base_uri": "https://localhost:8080/"
        },
        "id": "M8m8EhmcaxRK",
        "outputId": "6e8b9c64-9180-40a7-f4c9-08c47cc65feb"
      },
      "execution_count": 15,
      "outputs": [
        {
          "output_type": "stream",
          "name": "stdout",
          "text": [
            "b\n"
          ]
        }
      ]
    },
    {
      "cell_type": "code",
      "source": [
        "#and operation\n",
        "a=5\n",
        "b=9\n",
        "c=9\n",
        "if a>b and b==c:\n",
        "  print(\"Nothing\")\n",
        "elif a<b and b==c:\n",
        "  print(\"everything\")\n",
        "elif a==b and b==c:\n",
        "  print(\"something\")"
      ],
      "metadata": {
        "colab": {
          "base_uri": "https://localhost:8080/"
        },
        "id": "eoGdlUfscQOP",
        "outputId": "fd9ea507-0339-4206-8d68-29673ff11a95"
      },
      "execution_count": 19,
      "outputs": [
        {
          "output_type": "stream",
          "name": "stdout",
          "text": [
            "everything\n"
          ]
        }
      ]
    },
    {
      "cell_type": "code",
      "source": [
        "#or operation\n",
        "a=9\n",
        "b=6\n",
        "c=2\n",
        "if a<b or b<c:\n",
        "  print(\"acb\")\n",
        "elif a<b or b>c:\n",
        "  print(\"not sure\")"
      ],
      "metadata": {
        "colab": {
          "base_uri": "https://localhost:8080/"
        },
        "id": "1hCYeaeCc2vs",
        "outputId": "f7760f5c-3b89-4f9b-e834-3d4089c9c3e1"
      },
      "execution_count": 22,
      "outputs": [
        {
          "output_type": "stream",
          "name": "stdout",
          "text": [
            "not sure\n"
          ]
        }
      ]
    },
    {
      "cell_type": "code",
      "source": [
        "#Not operator\n",
        "a=5\n",
        "b=6\n",
        "if not a>b:\n",
        "  print(\"a is not greater\")"
      ],
      "metadata": {
        "colab": {
          "base_uri": "https://localhost:8080/"
        },
        "id": "JN_btHaMjdTs",
        "outputId": "78a07c5a-f018-463c-e1a9-953a51913162"
      },
      "execution_count": 23,
      "outputs": [
        {
          "output_type": "stream",
          "name": "stdout",
          "text": [
            "a is not greater\n"
          ]
        }
      ]
    },
    {
      "cell_type": "code",
      "source": [
        "#pass statement\n",
        "a=7\n",
        "b=6\n",
        "if a>b:\n",
        "  pass\n",
        "else:\n",
        "  print(\"b is greater\")"
      ],
      "metadata": {
        "id": "DXgyTuisuwCq"
      },
      "execution_count": 31,
      "outputs": []
    },
    {
      "cell_type": "markdown",
      "source": [
        "**While loop**"
      ],
      "metadata": {
        "id": "8Tb2b7BR9ct3"
      }
    },
    {
      "cell_type": "code",
      "source": [
        "#Simple while loop\n",
        "i=1\n",
        "while i<6:\n",
        "  if i==4:\n",
        "    break\n",
        "  i+=1\n",
        "  if i==3:\n",
        "    continue\n",
        "  print(\"the value of i is \"+ str(i))"
      ],
      "metadata": {
        "colab": {
          "base_uri": "https://localhost:8080/"
        },
        "id": "94AuBRWs9hkx",
        "outputId": "eee3d687-f2bc-45e6-80ad-22dc4424277a"
      },
      "execution_count": 44,
      "outputs": [
        {
          "output_type": "stream",
          "name": "stdout",
          "text": [
            "the value of i is 2\n",
            "the value of i is 4\n",
            "the value of i is 5\n",
            "the value of i is 6\n"
          ]
        }
      ]
    }
  ]
}