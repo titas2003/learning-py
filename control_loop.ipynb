{
  "nbformat": 4,
  "nbformat_minor": 0,
  "metadata": {
    "colab": {
      "provenance": [],
      "authorship_tag": "ABX9TyPgRb0c3U8orPtaaLuZRduh",
      "include_colab_link": true
    },
    "kernelspec": {
      "name": "python3",
      "display_name": "Python 3"
    },
    "language_info": {
      "name": "python"
    }
  },
  "cells": [
    {
      "cell_type": "markdown",
      "metadata": {
        "id": "view-in-github",
        "colab_type": "text"
      },
      "source": [
        "<a href=\"https://colab.research.google.com/github/titas2003/learning-py/blob/main/control_loop.ipynb\" target=\"_parent\"><img src=\"https://colab.research.google.com/assets/colab-badge.svg\" alt=\"Open In Colab\"/></a>"
      ]
    },
    {
      "cell_type": "code",
      "execution_count": 1,
      "metadata": {
        "colab": {
          "base_uri": "https://localhost:8080/"
        },
        "id": "7JJWqncaX8gD",
        "outputId": "7ed679e7-879b-468f-9f0b-f689c78d7215"
      },
      "outputs": [
        {
          "output_type": "stream",
          "name": "stdout",
          "text": [
            "Go to hell\n"
          ]
        }
      ],
      "source": [
        "#Simple\n",
        "if 3>45:\n",
        "  print(\"hi there\")\n",
        "else:\n",
        "  print(\"Go to hell\")"
      ]
    },
    {
      "cell_type": "code",
      "source": [
        "#elif\n",
        "a=5\n",
        "b=2\n",
        "if a>b:\n",
        "  print(\"a is greater\")\n",
        "elif a==b:\n",
        "  print(\"a and b are equal\")\n",
        "else:\n",
        "  print(\"b is greatest\")"
      ],
      "metadata": {
        "colab": {
          "base_uri": "https://localhost:8080/"
        },
        "id": "kPuIR0KVZqE9",
        "outputId": "805cab8b-6668-47b1-b820-362c983d183d"
      },
      "execution_count": 4,
      "outputs": [
        {
          "output_type": "stream",
          "name": "stdout",
          "text": [
            "a is greater\n"
          ]
        }
      ]
    },
    {
      "cell_type": "code",
      "source": [
        "#elif\n",
        "if 'p' in 'limits':\n",
        "  print(\"S is there\")\n",
        "elif \"orange\" in [\"apple\", \"orange\", \"mango\"]:\n",
        "  print(\"Eat orange\")\n",
        "else:\n",
        "  print(\"Eat banana\")"
      ],
      "metadata": {
        "colab": {
          "base_uri": "https://localhost:8080/"
        },
        "id": "KOuNzOesaFA4",
        "outputId": "39d70122-5dfe-496c-8945-8bc1a50fbaf5"
      },
      "execution_count": 11,
      "outputs": [
        {
          "output_type": "stream",
          "name": "stdout",
          "text": [
            "Eat orange\n"
          ]
        }
      ]
    },
    {
      "cell_type": "code",
      "source": [
        "#single line syntax\n",
        "a=5\n",
        "b=9\n",
        "print(\"a\") if a>b else print(\"b\")"
      ],
      "metadata": {
        "colab": {
          "base_uri": "https://localhost:8080/"
        },
        "id": "M8m8EhmcaxRK",
        "outputId": "9b21aa8e-ae19-4b3a-a13f-16e1bc956719"
      },
      "execution_count": 14,
      "outputs": [
        {
          "output_type": "stream",
          "name": "stdout",
          "text": [
            "b\n"
          ]
        }
      ]
    }
  ]
}