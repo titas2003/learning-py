{
  "nbformat": 4,
  "nbformat_minor": 0,
  "metadata": {
    "colab": {
      "provenance": [],
      "authorship_tag": "ABX9TyOryp5roixTBbXO0z/MtORW",
      "include_colab_link": true
    },
    "kernelspec": {
      "name": "python3",
      "display_name": "Python 3"
    },
    "language_info": {
      "name": "python"
    }
  },
  "cells": [
    {
      "cell_type": "markdown",
      "metadata": {
        "id": "view-in-github",
        "colab_type": "text"
      },
      "source": [
        "<a href=\"https://colab.research.google.com/github/titas2003/learning-py/blob/main/Tanvi_devops_py.ipynb\" target=\"_parent\"><img src=\"https://colab.research.google.com/assets/colab-badge.svg\" alt=\"Open In Colab\"/></a>"
      ]
    },
    {
      "cell_type": "code",
      "source": [
        "#Check data type\n",
        "x=4\n",
        "print(x)\n",
        "print(type(x))\n",
        "\n",
        "x=\"Hello\"\n",
        "print(x)\n",
        "print(type(x))"
      ],
      "metadata": {
        "colab": {
          "base_uri": "https://localhost:8080/"
        },
        "id": "lFqBzLRCC57d",
        "outputId": "07b11695-2d65-48f7-fe12-a48a1b1bdd6a"
      },
      "execution_count": null,
      "outputs": [
        {
          "output_type": "stream",
          "name": "stdout",
          "text": [
            "4\n",
            "<class 'int'>\n",
            "Hello\n",
            "<class 'str'>\n"
          ]
        }
      ]
    },
    {
      "cell_type": "code",
      "source": [
        "#Check data type\n",
        "x=4.5\n",
        "print(x)\n",
        "print(type(x))\n",
        "\n",
        "x=9.09845014254\n",
        "print(x)\n",
        "print(type(x))"
      ],
      "metadata": {
        "colab": {
          "base_uri": "https://localhost:8080/"
        },
        "id": "hnLMT7yNGIPL",
        "outputId": "54ca92b8-8dc2-4995-a56c-90f0445ed27c"
      },
      "execution_count": null,
      "outputs": [
        {
          "output_type": "stream",
          "name": "stdout",
          "text": [
            "4.5\n",
            "<class 'float'>\n",
            "9.09845014254\n",
            "<class 'float'>\n"
          ]
        }
      ]
    },
    {
      "cell_type": "code",
      "source": [
        "name=\"Titas\"\n",
        "age=29\n",
        "print(f\"My name is {name} and I am {age} years old.\")"
      ],
      "metadata": {
        "colab": {
          "base_uri": "https://localhost:8080/"
        },
        "id": "bwJclgq2Je3b",
        "outputId": "950dc000-f4c6-44f4-9ded-4cf2156803ec"
      },
      "execution_count": null,
      "outputs": [
        {
          "output_type": "stream",
          "name": "stdout",
          "text": [
            "My name is Titas and I am 29 years old.\n"
          ]
        }
      ]
    },
    {
      "cell_type": "code",
      "source": [
        "2==2\n"
      ],
      "metadata": {
        "colab": {
          "base_uri": "https://localhost:8080/"
        },
        "id": "x1x3PNAWjx7E",
        "outputId": "2fb4bc33-5d8e-4ff3-a0e6-44c510f7fef1"
      },
      "execution_count": null,
      "outputs": [
        {
          "output_type": "execute_result",
          "data": {
            "text/plain": [
              "True"
            ]
          },
          "metadata": {},
          "execution_count": 1
        }
      ]
    },
    {
      "cell_type": "code",
      "source": [
        "a=\"Hello\"\n",
        "(5>4) and (a!=a)"
      ],
      "metadata": {
        "colab": {
          "base_uri": "https://localhost:8080/"
        },
        "id": "zN_zABTFj7nI",
        "outputId": "6ae4e0ea-0886-4179-a95c-e9ba92abfb81"
      },
      "execution_count": null,
      "outputs": [
        {
          "output_type": "execute_result",
          "data": {
            "text/plain": [
              "False"
            ]
          },
          "metadata": {},
          "execution_count": 5
        }
      ]
    },
    {
      "cell_type": "code",
      "source": [
        "a = {not 0}\n",
        "print(a)"
      ],
      "metadata": {
        "colab": {
          "base_uri": "https://localhost:8080/"
        },
        "id": "W-5x8euJkQUT",
        "outputId": "58aa0fef-6564-4af6-d934-ba08dd095b1c"
      },
      "execution_count": null,
      "outputs": [
        {
          "output_type": "stream",
          "name": "stdout",
          "text": [
            "{True}\n"
          ]
        }
      ]
    },
    {
      "cell_type": "code",
      "source": [
        "a=\"Welcome to DevOps\"\n",
        "print(len(a))"
      ],
      "metadata": {
        "colab": {
          "base_uri": "https://localhost:8080/"
        },
        "id": "8kboFWnSl-Qn",
        "outputId": "f513dd0e-24c0-48cf-8f9e-f26c0a60dc62"
      },
      "execution_count": null,
      "outputs": [
        {
          "output_type": "stream",
          "name": "stdout",
          "text": [
            "17\n"
          ]
        }
      ]
    },
    {
      "cell_type": "code",
      "source": [
        "print(\"DevOps\" in a)"
      ],
      "metadata": {
        "colab": {
          "base_uri": "https://localhost:8080/"
        },
        "id": "yf5hwVfbmFJx",
        "outputId": "72b40cd8-fb38-48c8-ac08-f7a6a9c023bd"
      },
      "execution_count": null,
      "outputs": [
        {
          "output_type": "stream",
          "name": "stdout",
          "text": [
            "True\n"
          ]
        }
      ]
    },
    {
      "cell_type": "code",
      "source": [
        "print(a[2:20])"
      ],
      "metadata": {
        "colab": {
          "base_uri": "https://localhost:8080/"
        },
        "id": "zF95qJilmLD5",
        "outputId": "58b376da-15be-4c62-9b7b-c03427c73e0b"
      },
      "execution_count": null,
      "outputs": [
        {
          "output_type": "stream",
          "name": "stdout",
          "text": [
            "lcome to DevOps\n"
          ]
        }
      ]
    },
    {
      "cell_type": "code",
      "source": [
        "#insert value by insert() method\n",
        "list=[\"apple\", \"samsung\", \"dell\"]\n",
        "list.insert(1,\"lenovo\")\n",
        "print(list)\n",
        "type(list)"
      ],
      "metadata": {
        "colab": {
          "base_uri": "https://localhost:8080/"
        },
        "id": "CpapCgMFUFl8",
        "outputId": "c98140b0-adbc-4635-8932-357f80642087"
      },
      "execution_count": null,
      "outputs": [
        {
          "output_type": "stream",
          "name": "stdout",
          "text": [
            "['apple', 'lenovo', 'samsung', 'dell']\n"
          ]
        },
        {
          "output_type": "execute_result",
          "data": {
            "text/plain": [
              "list"
            ]
          },
          "metadata": {},
          "execution_count": 2
        }
      ]
    },
    {
      "cell_type": "code",
      "source": [
        "#Extend list using extend() method\n",
        "list=[\"apple\", \"samsung\", \"dell\", 5, [3,4]]\n",
        "list.extend(\"Mi\")\n",
        "print(list)\n",
        "type(list)"
      ],
      "metadata": {
        "colab": {
          "base_uri": "https://localhost:8080/"
        },
        "id": "dPcijax2UlM_",
        "outputId": "fcea67c0-85aa-4df5-b5b1-07ef0c53f7a7"
      },
      "execution_count": null,
      "outputs": [
        {
          "output_type": "stream",
          "name": "stdout",
          "text": [
            "['apple', 'samsung', 'dell', 5, [3, 4], 'M', 'i']\n"
          ]
        },
        {
          "output_type": "execute_result",
          "data": {
            "text/plain": [
              "list"
            ]
          },
          "metadata": {},
          "execution_count": 3
        }
      ]
    },
    {
      "cell_type": "code",
      "source": [
        "#Remove list item using remove() method\n",
        "list=[\"apple\", \"banana\", \"mango\", 3, [5,7]]\n",
        "list.remove(\"apple\")\n",
        "print(list)\n",
        "type(list)"
      ],
      "metadata": {
        "colab": {
          "base_uri": "https://localhost:8080/"
        },
        "id": "9aYbZWSaVNoX",
        "outputId": "5e68667f-82bc-407d-f645-b3adf5fe4708"
      },
      "execution_count": null,
      "outputs": [
        {
          "output_type": "stream",
          "name": "stdout",
          "text": [
            "['banana', 'mango', 3, [5, 7]]\n"
          ]
        },
        {
          "output_type": "execute_result",
          "data": {
            "text/plain": [
              "list"
            ]
          },
          "metadata": {},
          "execution_count": 8
        }
      ]
    },
    {
      "cell_type": "code",
      "source": [
        "#Remove by specific index using pop() method\n",
        "list=[\"apple\", \"banana\", 5, [5, 6, 7]]\n",
        "list[3].pop(0)\n",
        "print(list)\n",
        "type(list)"
      ],
      "metadata": {
        "colab": {
          "base_uri": "https://localhost:8080/"
        },
        "id": "2L165_EdV2kD",
        "outputId": "70b98b57-b242-4b77-f9ce-519aee46c96c"
      },
      "execution_count": null,
      "outputs": [
        {
          "output_type": "stream",
          "name": "stdout",
          "text": [
            "['apple', 'banana', 5, [6, 7]]\n"
          ]
        },
        {
          "output_type": "execute_result",
          "data": {
            "text/plain": [
              "list"
            ]
          },
          "metadata": {},
          "execution_count": 14
        }
      ]
    },
    {
      "cell_type": "code",
      "source": [
        "#Clear all the elements of the list using clear() method\n",
        "list=[\"apple\", \"banana\", 5, [5, 6, 7]]\n",
        "list[3].clear()\n",
        "print(list)\n",
        "type(list)"
      ],
      "metadata": {
        "colab": {
          "base_uri": "https://localhost:8080/"
        },
        "id": "iPJGGNVqW-H1",
        "outputId": "0a474b4b-2458-40f7-d93d-95ae60716102"
      },
      "execution_count": null,
      "outputs": [
        {
          "output_type": "stream",
          "name": "stdout",
          "text": [
            "['apple', 'banana', 5, []]\n"
          ]
        },
        {
          "output_type": "execute_result",
          "data": {
            "text/plain": [
              "list"
            ]
          },
          "metadata": {},
          "execution_count": 16
        }
      ]
    },
    {
      "cell_type": "code",
      "source": [
        "#Sort a list by sort() method\n",
        "list=[\"apple\", \"banana\", \"coconut\"]\n",
        "list.sort(reverse=True)\n",
        "print(list)\n",
        "type(list)"
      ],
      "metadata": {
        "colab": {
          "base_uri": "https://localhost:8080/"
        },
        "id": "vgn1kxPQXQCR",
        "outputId": "6dc5fbfa-40d0-487a-8843-fc91c6435b32"
      },
      "execution_count": null,
      "outputs": [
        {
          "output_type": "stream",
          "name": "stdout",
          "text": [
            "['coconut', 'banana', 'apple']\n"
          ]
        },
        {
          "output_type": "execute_result",
          "data": {
            "text/plain": [
              "list"
            ]
          },
          "metadata": {},
          "execution_count": 20
        }
      ]
    },
    {
      "cell_type": "code",
      "source": [
        "#Extend list using extend() method\n",
        "list=[\"apple\", \"samsung\", \"dell\", 5, [3,4]]\n",
        "list_01=[1, 3, 5]\n",
        "list.extend(list_01)\n",
        "print(list)\n",
        "type(list)"
      ],
      "metadata": {
        "colab": {
          "base_uri": "https://localhost:8080/"
        },
        "id": "7bTzvr-iXnzQ",
        "outputId": "d88791e7-ccde-46ad-e3b5-971b16f0c4d1"
      },
      "execution_count": null,
      "outputs": [
        {
          "output_type": "stream",
          "name": "stdout",
          "text": [
            "['apple', 'samsung', 'dell', 5, [3, 4], 1, 3, 5]\n"
          ]
        },
        {
          "output_type": "execute_result",
          "data": {
            "text/plain": [
              "list"
            ]
          },
          "metadata": {},
          "execution_count": 21
        }
      ]
    },
    {
      "cell_type": "code",
      "source": [
        "#Join 2 lists using '+' sign\n",
        "list=[\"apple\", \"samsung\", \"dell\", 5, [3,4]]\n",
        "list_01=[1, 3, 5]\n",
        "fin_list=list+list_01\n",
        "print(fin_list)\n",
        "type(fin_list)"
      ],
      "metadata": {
        "colab": {
          "base_uri": "https://localhost:8080/"
        },
        "id": "5x0qY906X8bT",
        "outputId": "3f72ee4a-da92-4482-df8e-15c679958ade"
      },
      "execution_count": null,
      "outputs": [
        {
          "output_type": "stream",
          "name": "stdout",
          "text": [
            "['apple', 'samsung', 'dell', 5, [3, 4], 1, 3, 5]\n"
          ]
        },
        {
          "output_type": "execute_result",
          "data": {
            "text/plain": [
              "list"
            ]
          },
          "metadata": {},
          "execution_count": 22
        }
      ]
    },
    {
      "cell_type": "code",
      "source": [
        "#Extract item from a list\n",
        "list=[\"apple\", \"samsung\", \"dell\", 5, [3,4]]\n",
        "print(list[4][0])"
      ],
      "metadata": {
        "colab": {
          "base_uri": "https://localhost:8080/"
        },
        "id": "IgrlzN1zYXQl",
        "outputId": "52abd335-d386-48b4-9f17-7d220ec10360"
      },
      "execution_count": null,
      "outputs": [
        {
          "output_type": "stream",
          "name": "stdout",
          "text": [
            "3\n"
          ]
        }
      ]
    },
    {
      "cell_type": "markdown",
      "source": [
        "**Tuples**\n",
        "\n",
        " - Immutable\n",
        " - Ordered\n",
        " - Allow dupicates\n",
        " - Heterogeneous\n",
        " - Negetive indexing(Starts from -1)"
      ],
      "metadata": {
        "id": "wUZtBwolZT5U"
      }
    },
    {
      "cell_type": "code",
      "source": [
        "# Tuples\n",
        "tup=(\"apple\", \"orange\", \"a\", \"b\")\n",
        "print(tup)\n",
        "print(type(tup))"
      ],
      "metadata": {
        "colab": {
          "base_uri": "https://localhost:8080/"
        },
        "id": "OP6STx-Oj1v0",
        "outputId": "cc80e43d-b5cc-4c21-e3c9-d2a86d461414"
      },
      "execution_count": null,
      "outputs": [
        {
          "output_type": "stream",
          "name": "stdout",
          "text": [
            "('apple', 'orange', 'a', 'b')\n",
            "<class 'tuple'>\n"
          ]
        }
      ]
    },
    {
      "cell_type": "code",
      "source": [
        "tup=(\"apple\", \"orange\", \"a\", \"b\")\n",
        "print(tup[1])\n",
        "print(type(tup))"
      ],
      "metadata": {
        "colab": {
          "base_uri": "https://localhost:8080/"
        },
        "id": "DX4otu8ekWzf",
        "outputId": "82f601a9-b128-4d0d-baf0-c6c604ac7642"
      },
      "execution_count": null,
      "outputs": [
        {
          "output_type": "stream",
          "name": "stdout",
          "text": [
            "orange\n",
            "<class 'tuple'>\n"
          ]
        }
      ]
    },
    {
      "cell_type": "code",
      "source": [
        "#Negetive indexing\n",
        "tup=(\"apple\", \"orange\", \"a\", \"b\")\n",
        "print(tup[-2])\n",
        "print(type(tup))"
      ],
      "metadata": {
        "colab": {
          "base_uri": "https://localhost:8080/"
        },
        "id": "JQlTTlCFm1mk",
        "outputId": "51160030-c1f5-4c22-c202-03d16c0c051e"
      },
      "execution_count": null,
      "outputs": [
        {
          "output_type": "stream",
          "name": "stdout",
          "text": [
            "a\n",
            "<class 'tuple'>\n"
          ]
        }
      ]
    },
    {
      "cell_type": "code",
      "source": [
        "#Negetive indexing\n",
        "tup=(\"apple\", \"orange\", \"a\", \"b\", 3, 6.5)\n",
        "print(tup[-5:-2])\n",
        "print(type(tup))"
      ],
      "metadata": {
        "colab": {
          "base_uri": "https://localhost:8080/"
        },
        "id": "uaB9a5VLnVH9",
        "outputId": "ff090eeb-4a38-43e0-9800-21ae3f150993"
      },
      "execution_count": null,
      "outputs": [
        {
          "output_type": "stream",
          "name": "stdout",
          "text": [
            "('orange', 'a', 'b')\n",
            "<class 'tuple'>\n"
          ]
        }
      ]
    },
    {
      "cell_type": "code",
      "source": [
        "#Negetive indexing\n",
        "tup=(\"apple\", \"orange\", \"a\", \"b\", 3, 6.5)\n",
        "print(tup[-4:])\n",
        "print(type(tup))"
      ],
      "metadata": {
        "colab": {
          "base_uri": "https://localhost:8080/"
        },
        "id": "ohIWaKrVnvPM",
        "outputId": "e91ccd9e-76ea-4fcd-a7a5-e56c8284a158"
      },
      "execution_count": 1,
      "outputs": [
        {
          "output_type": "stream",
          "name": "stdout",
          "text": [
            "('a', 'b', 3, 6.5)\n",
            "<class 'tuple'>\n"
          ]
        }
      ]
    },
    {
      "cell_type": "code",
      "source": [
        "#Immutable(Error)\n",
        "tup=(\"apple\", \"orange\", \"a\", \"b\", 3, 6.5)\n",
        "tup[2]=\"test\"\n",
        "print(tup)\n",
        "print(type(tup))"
      ],
      "metadata": {
        "colab": {
          "base_uri": "https://localhost:8080/",
          "height": 211
        },
        "id": "PGubidTdoeTx",
        "outputId": "0061ec47-de62-4cc1-dc8c-440ef8309b01"
      },
      "execution_count": null,
      "outputs": [
        {
          "output_type": "error",
          "ename": "TypeError",
          "evalue": "'tuple' object does not support item assignment",
          "traceback": [
            "\u001b[0;31m---------------------------------------------------------------------------\u001b[0m",
            "\u001b[0;31mTypeError\u001b[0m                                 Traceback (most recent call last)",
            "\u001b[0;32m/tmp/ipython-input-36-397815049.py\u001b[0m in \u001b[0;36m<cell line: 0>\u001b[0;34m()\u001b[0m\n\u001b[1;32m      1\u001b[0m \u001b[0;31m#Immutable\u001b[0m\u001b[0;34m\u001b[0m\u001b[0;34m\u001b[0m\u001b[0m\n\u001b[1;32m      2\u001b[0m \u001b[0mtup\u001b[0m\u001b[0;34m=\u001b[0m\u001b[0;34m(\u001b[0m\u001b[0;34m\"apple\"\u001b[0m\u001b[0;34m,\u001b[0m \u001b[0;34m\"orange\"\u001b[0m\u001b[0;34m,\u001b[0m \u001b[0;34m\"a\"\u001b[0m\u001b[0;34m,\u001b[0m \u001b[0;34m\"b\"\u001b[0m\u001b[0;34m,\u001b[0m \u001b[0;36m3\u001b[0m\u001b[0;34m,\u001b[0m \u001b[0;36m6.5\u001b[0m\u001b[0;34m)\u001b[0m\u001b[0;34m\u001b[0m\u001b[0;34m\u001b[0m\u001b[0m\n\u001b[0;32m----> 3\u001b[0;31m \u001b[0mtup\u001b[0m\u001b[0;34m[\u001b[0m\u001b[0;36m2\u001b[0m\u001b[0;34m]\u001b[0m\u001b[0;34m=\u001b[0m\u001b[0;34m\"test\"\u001b[0m\u001b[0;34m\u001b[0m\u001b[0;34m\u001b[0m\u001b[0m\n\u001b[0m\u001b[1;32m      4\u001b[0m \u001b[0mprint\u001b[0m\u001b[0;34m(\u001b[0m\u001b[0mtup\u001b[0m\u001b[0;34m)\u001b[0m\u001b[0;34m\u001b[0m\u001b[0;34m\u001b[0m\u001b[0m\n\u001b[1;32m      5\u001b[0m \u001b[0mprint\u001b[0m\u001b[0;34m(\u001b[0m\u001b[0mtype\u001b[0m\u001b[0;34m(\u001b[0m\u001b[0mtup\u001b[0m\u001b[0;34m)\u001b[0m\u001b[0;34m)\u001b[0m\u001b[0;34m\u001b[0m\u001b[0;34m\u001b[0m\u001b[0m\n",
            "\u001b[0;31mTypeError\u001b[0m: 'tuple' object does not support item assignment"
          ]
        }
      ]
    },
    {
      "cell_type": "markdown",
      "source": [
        "**Sets**\n",
        "\n",
        " - Unordered\n",
        " - No duplicates\n",
        " - Mutable (Add/Remove elements)\n",
        " - Immutable (Cannot change the values)"
      ],
      "metadata": {
        "id": "xOIR0OfZ8Ens"
      }
    },
    {
      "cell_type": "code",
      "source": [
        "# Set\n",
        "st = {\"apple\", \"banana\", \"error\", 1, 3, 1}\n",
        "print(st)"
      ],
      "metadata": {
        "colab": {
          "base_uri": "https://localhost:8080/"
        },
        "id": "MEw0dd3d9KTb",
        "outputId": "c17f142f-624a-4713-e82c-470923983c99"
      },
      "execution_count": 2,
      "outputs": [
        {
          "output_type": "stream",
          "name": "stdout",
          "text": [
            "{'banana', 1, 3, 'error', 'apple'}\n"
          ]
        }
      ]
    },
    {
      "cell_type": "code",
      "source": [
        "#Operations\n",
        "set1 = {\"abc\", 50, \"cherry\", 7.6}\n",
        "print(set1)\n",
        "print(len(set1))"
      ],
      "metadata": {
        "colab": {
          "base_uri": "https://localhost:8080/"
        },
        "id": "cDFNHjwd9aMd",
        "outputId": "7124e4a1-19b3-4f62-9dcf-0f55d23518b9"
      },
      "execution_count": 4,
      "outputs": [
        {
          "output_type": "stream",
          "name": "stdout",
          "text": [
            "{'cherry', 50, 'abc', 7.6}\n",
            "4\n"
          ]
        }
      ]
    },
    {
      "cell_type": "code",
      "source": [
        "#Operations\n",
        "X = set(\"spamsapple\")\n",
        "Y = set(['a', 'b', 'c', 's', 'p'])\n",
        "print(X)\n",
        "print(Y)\n",
        "\n",
        "#Intersection\n",
        "intr = X & Y\n",
        "print(intr)\n",
        "\n",
        "#Union\n",
        "uni = X | Y\n",
        "print(uni)\n",
        "\n",
        "#Differences\n",
        "diff = X - Y\n",
        "print(diff)"
      ],
      "metadata": {
        "colab": {
          "base_uri": "https://localhost:8080/"
        },
        "id": "4LYosE5jBYFp",
        "outputId": "0babb5cf-2ee4-495d-b5c2-a26162c57947"
      },
      "execution_count": 15,
      "outputs": [
        {
          "output_type": "stream",
          "name": "stdout",
          "text": [
            "{'p', 'l', 'e', 'm', 's', 'a'}\n",
            "{'p', 's', 'b', 'a', 'c'}\n",
            "{'p', 's', 'a'}\n",
            "{'p', 'l', 'e', 'm', 's', 'a', 'b', 'c'}\n",
            "{'m', 'l', 'e'}\n"
          ]
        }
      ]
    },
    {
      "cell_type": "markdown",
      "source": [
        "**Dictionaries**\n",
        "\n",
        " - Key Value Pair\n",
        " - Unordered\n",
        " - Unique Key\n",
        " - Keys are immutable\n",
        " - No Indexing(Access values using keys)\n",
        " - Values are mutable\n",
        " - Can Add/Remove any key:value pair"
      ],
      "metadata": {
        "id": "pmYd6M7wGjbs"
      }
    },
    {
      "cell_type": "code",
      "source": [
        "#Example\n",
        "dict1 = {\"brand\":\"Ford\", \"model\":\"Mustang\", \"year\":1994}\n",
        "print(dict1)\n",
        "print(len(dict1))\n",
        "print(type(dict1))"
      ],
      "metadata": {
        "colab": {
          "base_uri": "https://localhost:8080/"
        },
        "id": "pQSyExkqG6wP",
        "outputId": "02882579-9092-4501-b5ac-81f507e98edd"
      },
      "execution_count": 17,
      "outputs": [
        {
          "output_type": "stream",
          "name": "stdout",
          "text": [
            "{'brand': 'Ford', 'model': 'Mustang', 'year': 1994}\n",
            "3\n",
            "<class 'dict'>\n"
          ]
        }
      ]
    },
    {
      "cell_type": "code",
      "source": [
        "#Values will overwritten\n",
        "dict1 = {\"brand\":\"Ford\", \"model\":\"Mustang\", \"year\":1994, \"year\":2003}\n",
        "print(dict1)\n",
        "print(len(dict1))\n",
        "print(type(dict1))"
      ],
      "metadata": {
        "colab": {
          "base_uri": "https://localhost:8080/"
        },
        "id": "Y-XfCOpsHyoE",
        "outputId": "3512e756-852b-43b3-b8ea-1905f5e54401"
      },
      "execution_count": 18,
      "outputs": [
        {
          "output_type": "stream",
          "name": "stdout",
          "text": [
            "{'brand': 'Ford', 'model': 'Mustang', 'year': 2003}\n",
            "3\n",
            "<class 'dict'>\n"
          ]
        }
      ]
    },
    {
      "cell_type": "code",
      "source": [
        "dict1 = {\"brand\":\"Ford\", \"model\":\"Mustang\", \"year\":1994, \"colors\": [\"red\", \"black\", \"silver\"]}\n",
        "print(dict1)\n",
        "print(dict1['colors'])\n",
        "print(dict1.get(\"model\"))\n",
        "print(dict1.keys())\n",
        "print(len(dict1))\n",
        "print(type(dict1))"
      ],
      "metadata": {
        "colab": {
          "base_uri": "https://localhost:8080/"
        },
        "id": "SFTGF2_8IGeh",
        "outputId": "182ecae3-a578-40ec-f2a8-108b754e72c3"
      },
      "execution_count": 24,
      "outputs": [
        {
          "output_type": "stream",
          "name": "stdout",
          "text": [
            "{'brand': 'Ford', 'model': 'Mustang', 'year': 1994, 'colors': ['red', 'black', 'silver']}\n",
            "['red', 'black', 'silver']\n",
            "Mustang\n",
            "dict_keys(['brand', 'model', 'year', 'colors'])\n",
            "4\n",
            "<class 'dict'>\n"
          ]
        }
      ]
    },
    {
      "cell_type": "code",
      "source": [
        "dict1 = {\"brand\":\"Ford\", \"model\":\"Mustang\", \"year\":1994, \"colors\": [\"red\", \"black\", \"silver\"]}\n",
        "dict1[\"colors\"][0] = \"purple\"\n",
        "print(dict1)\n",
        "dict2 = dict1.copy()\n",
        "print(type(dict2))\n",
        "dict1.pop(\"brand\")\n",
        "print(dict1)\n",
        "dict2.update({\"model\": \"GT\"})\n",
        "print(dict2)\n",
        "dict2.setdefault(\"brand\", \"Ford\")\n",
        "print(dict2)\n",
        "print(dict2.values())\n",
        "dict2.pop(\"brand\")\n",
        "print(dict2)\n",
        "dict3 = dict2.copy()\n",
        "print(dict3)\n",
        "dict3.clear()\n",
        "print(dict3)"
      ],
      "metadata": {
        "colab": {
          "base_uri": "https://localhost:8080/"
        },
        "id": "8d_RX2WPJ68_",
        "outputId": "23a7c410-f5ef-41ce-d591-88bde3ea0764"
      },
      "execution_count": 42,
      "outputs": [
        {
          "output_type": "stream",
          "name": "stdout",
          "text": [
            "{'brand': 'Ford', 'model': 'Mustang', 'year': 1994, 'colors': ['purple', 'black', 'silver']}\n",
            "<class 'dict'>\n",
            "{'model': 'Mustang', 'year': 1994, 'colors': ['purple', 'black', 'silver']}\n",
            "{'brand': 'Ford', 'model': 'GT', 'year': 1994, 'colors': ['purple', 'black', 'silver']}\n",
            "{'brand': 'Ford', 'model': 'GT', 'year': 1994, 'colors': ['purple', 'black', 'silver']}\n",
            "dict_values(['Ford', 'GT', 1994, ['purple', 'black', 'silver']])\n",
            "{'model': 'GT', 'year': 1994, 'colors': ['purple', 'black', 'silver']}\n",
            "{'model': 'GT', 'year': 1994, 'colors': ['purple', 'black', 'silver']}\n",
            "{}\n"
          ]
        }
      ]
    }
  ]
}